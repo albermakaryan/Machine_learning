{
 "cells": [
  {
   "cell_type": "code",
   "execution_count": 1,
   "id": "cce85de1-7577-4cc6-bab3-043b36836772",
   "metadata": {},
   "outputs": [],
   "source": [
    "import pandas as pd\n",
    "import numpy as np\n",
    "import json\n",
    "\n",
    "from utils.models import find_best_model\n",
    "from utils.search_model import train_models\n",
    "from utils.get_parameters import max_score_for_each, get_combinations\n",
    "from utils.visual import plot_results\n",
    "import os\n",
    "import matplotlib.pyplot as plt\n"
   ]
  },
  {
   "cell_type": "markdown",
   "id": "d3f61711-0826-4c53-9d41-761b031cda07",
   "metadata": {},
   "source": [
    "## Model Training\n",
    "\n",
    "The first step of model training is to train combinations of algorithm, imputation and balancing approaches\\\n",
    "The algorithms are:\n",
    "\n",
    "    - KNN\n",
    "    - Decision Tree\n",
    "    - Logistic regression\n",
    "    - SVM\n",
    "    - Naive Bayes\n",
    "    - RandomForestClassifier\n",
    "    - GradientBoostingClassifier\n",
    "    - BaggingClassifier\n",
    "    - XGBClassifier\n",
    "\n",
    "The balancing algorithms are:\n",
    "\n",
    "    - SMOTE (oversampling)\n",
    "    - MWMOTE (oversampling)\n",
    "    - ADASYN (oversampling)\n",
    "    - AllKNN (undersampling)\n",
    "    - None (using original data)\n",
    "\n",
    "The imputation techqniues are:\n",
    "\n",
    "    - Simple Imputer with mode: for categorical features\n",
    "    - Simple Imputer with mean: for numerical features\n",
    "    - KNN Imputer with mean: for numerical features\n"
   ]
  },
  {
   "cell_type": "markdown",
   "id": "37fc2df8-2541-46f5-a18f-e7dd5753b720",
   "metadata": {},
   "source": [
    "## Project structure\n",
    "\n",
    "- **[data/](data/)**\n",
    "   - **[initial_data/](data/initial_data/)**:  Full data set for modeling\n",
    "   - **[model_data/](data/model_data/)**    :  Period 3 data set\n",
    "- **[src/](src/)**\n",
    "   - **[models/](src/models/)**   :  The best models for each algorithm in .pkl format\n",
    "   - **[results/](src/results/)** :  Performance results for each algorithm and total\n",
    "   - **[utils/](src/utisl/)**     :  Utility functions package\n",
    "      - **[__init__.py](src/utils/__init__.py)**:  Python package initialization\n",
    "      - **[data_preparation.py](src/utils/data_preparation.py)**:  Utility function for data preparation\n",
    "      - **[functions.py](src/utils/functions.py)**:  Utility function for best results combination\n",
    "      - **[get_parameters.py](src/utils/__init__.py)**:  Utility functions for parameters' combination collection \n",
    "      - **[metrics.py](src/utils/metrics.py)**:  Utility function to evaluate model performance\n",
    "      - **[search_model.py](src/utils/search_model.py)**:  Utility function to train default models with several combinations\n",
    "      - **[visual.py](src/utils/visual.py)**:  Utility functions to plot models' performance results\n",
    "      - **[models.py](src/utils/models.py)**:  Utility functions to train 'the best' model for each algorithm\n",
    "   - **[main.py](src/main.py)**:  The main file in a project\n",
    "   - **[eda-1.ipynb](src/eda-1.ipynb)**:  Jupyter Notebook for EDA\n",
    "   - **[end_to_end.ipynb](src/end_to_end.ipynb)**:  Jupyter Notebook for end-to-end workflow presentation\n",
    "   - **[visualizations.ipynb](src/visualizations.ipynb)**:   Jupyter Notebook for visualizations\n",
    "\n",
    "- **[requirements.txt](/requirements.txt)**: The inclusion of a requirements.txt file makes it easier to recreate the project's environment and install the necessary dependencies."
   ]
  },
  {
   "cell_type": "code",
   "execution_count": 2,
   "id": "61842cef-d55b-4ff1-8751-a38d5d25f7b4",
   "metadata": {},
   "outputs": [
    {
     "name": "stdout",
     "output_type": "stream",
     "text": [
      "Shape: (11627, 28)\n",
      "\n"
     ]
    },
    {
     "data": {
      "text/html": [
       "<div>\n",
       "<style scoped>\n",
       "    .dataframe tbody tr th:only-of-type {\n",
       "        vertical-align: middle;\n",
       "    }\n",
       "\n",
       "    .dataframe tbody tr th {\n",
       "        vertical-align: top;\n",
       "    }\n",
       "\n",
       "    .dataframe thead th {\n",
       "        text-align: right;\n",
       "    }\n",
       "</style>\n",
       "<table border=\"1\" class=\"dataframe\">\n",
       "  <thead>\n",
       "    <tr style=\"text-align: right;\">\n",
       "      <th></th>\n",
       "      <th>SEX</th>\n",
       "      <th>TOTCHOL</th>\n",
       "      <th>AGE</th>\n",
       "      <th>SYSBP</th>\n",
       "      <th>DIABP</th>\n",
       "      <th>CURSMOKE</th>\n",
       "      <th>CIGPDAY</th>\n",
       "      <th>BMI</th>\n",
       "      <th>DIABETES</th>\n",
       "      <th>BPMEDS</th>\n",
       "      <th>...</th>\n",
       "      <th>PERIOD</th>\n",
       "      <th>HDLC</th>\n",
       "      <th>LDLC</th>\n",
       "      <th>ANGINA</th>\n",
       "      <th>HOSPMI</th>\n",
       "      <th>MI_FCHD</th>\n",
       "      <th>ANYCHD</th>\n",
       "      <th>CVD</th>\n",
       "      <th>HYPERTEN</th>\n",
       "      <th>STROKE</th>\n",
       "    </tr>\n",
       "  </thead>\n",
       "  <tbody>\n",
       "    <tr>\n",
       "      <th>0</th>\n",
       "      <td>1</td>\n",
       "      <td>195.0</td>\n",
       "      <td>39</td>\n",
       "      <td>106.0</td>\n",
       "      <td>70.0</td>\n",
       "      <td>0</td>\n",
       "      <td>0.0</td>\n",
       "      <td>26.97</td>\n",
       "      <td>0</td>\n",
       "      <td>0.0</td>\n",
       "      <td>...</td>\n",
       "      <td>1</td>\n",
       "      <td>NaN</td>\n",
       "      <td>NaN</td>\n",
       "      <td>0</td>\n",
       "      <td>1</td>\n",
       "      <td>1</td>\n",
       "      <td>1</td>\n",
       "      <td>1</td>\n",
       "      <td>0</td>\n",
       "      <td>0</td>\n",
       "    </tr>\n",
       "    <tr>\n",
       "      <th>1</th>\n",
       "      <td>1</td>\n",
       "      <td>209.0</td>\n",
       "      <td>52</td>\n",
       "      <td>121.0</td>\n",
       "      <td>66.0</td>\n",
       "      <td>0</td>\n",
       "      <td>0.0</td>\n",
       "      <td>NaN</td>\n",
       "      <td>0</td>\n",
       "      <td>0.0</td>\n",
       "      <td>...</td>\n",
       "      <td>3</td>\n",
       "      <td>31.0</td>\n",
       "      <td>178.0</td>\n",
       "      <td>0</td>\n",
       "      <td>1</td>\n",
       "      <td>1</td>\n",
       "      <td>1</td>\n",
       "      <td>1</td>\n",
       "      <td>0</td>\n",
       "      <td>0</td>\n",
       "    </tr>\n",
       "    <tr>\n",
       "      <th>2</th>\n",
       "      <td>2</td>\n",
       "      <td>250.0</td>\n",
       "      <td>46</td>\n",
       "      <td>121.0</td>\n",
       "      <td>81.0</td>\n",
       "      <td>0</td>\n",
       "      <td>0.0</td>\n",
       "      <td>28.73</td>\n",
       "      <td>0</td>\n",
       "      <td>0.0</td>\n",
       "      <td>...</td>\n",
       "      <td>1</td>\n",
       "      <td>NaN</td>\n",
       "      <td>NaN</td>\n",
       "      <td>0</td>\n",
       "      <td>0</td>\n",
       "      <td>0</td>\n",
       "      <td>0</td>\n",
       "      <td>0</td>\n",
       "      <td>0</td>\n",
       "      <td>0</td>\n",
       "    </tr>\n",
       "    <tr>\n",
       "      <th>3</th>\n",
       "      <td>2</td>\n",
       "      <td>260.0</td>\n",
       "      <td>52</td>\n",
       "      <td>105.0</td>\n",
       "      <td>69.5</td>\n",
       "      <td>0</td>\n",
       "      <td>0.0</td>\n",
       "      <td>29.43</td>\n",
       "      <td>0</td>\n",
       "      <td>0.0</td>\n",
       "      <td>...</td>\n",
       "      <td>2</td>\n",
       "      <td>NaN</td>\n",
       "      <td>NaN</td>\n",
       "      <td>0</td>\n",
       "      <td>0</td>\n",
       "      <td>0</td>\n",
       "      <td>0</td>\n",
       "      <td>0</td>\n",
       "      <td>0</td>\n",
       "      <td>0</td>\n",
       "    </tr>\n",
       "    <tr>\n",
       "      <th>4</th>\n",
       "      <td>2</td>\n",
       "      <td>237.0</td>\n",
       "      <td>58</td>\n",
       "      <td>108.0</td>\n",
       "      <td>66.0</td>\n",
       "      <td>0</td>\n",
       "      <td>0.0</td>\n",
       "      <td>28.50</td>\n",
       "      <td>0</td>\n",
       "      <td>0.0</td>\n",
       "      <td>...</td>\n",
       "      <td>3</td>\n",
       "      <td>54.0</td>\n",
       "      <td>141.0</td>\n",
       "      <td>0</td>\n",
       "      <td>0</td>\n",
       "      <td>0</td>\n",
       "      <td>0</td>\n",
       "      <td>0</td>\n",
       "      <td>0</td>\n",
       "      <td>0</td>\n",
       "    </tr>\n",
       "  </tbody>\n",
       "</table>\n",
       "<p>5 rows × 28 columns</p>\n",
       "</div>"
      ],
      "text/plain": [
       "   SEX  TOTCHOL  AGE  SYSBP  DIABP  CURSMOKE  CIGPDAY    BMI  DIABETES  \\\n",
       "0    1    195.0   39  106.0   70.0         0      0.0  26.97         0   \n",
       "1    1    209.0   52  121.0   66.0         0      0.0    NaN         0   \n",
       "2    2    250.0   46  121.0   81.0         0      0.0  28.73         0   \n",
       "3    2    260.0   52  105.0   69.5         0      0.0  29.43         0   \n",
       "4    2    237.0   58  108.0   66.0         0      0.0  28.50         0   \n",
       "\n",
       "   BPMEDS  ...  PERIOD  HDLC   LDLC  ANGINA  HOSPMI  MI_FCHD  ANYCHD  CVD  \\\n",
       "0     0.0  ...       1   NaN    NaN       0       1        1       1    1   \n",
       "1     0.0  ...       3  31.0  178.0       0       1        1       1    1   \n",
       "2     0.0  ...       1   NaN    NaN       0       0        0       0    0   \n",
       "3     0.0  ...       2   NaN    NaN       0       0        0       0    0   \n",
       "4     0.0  ...       3  54.0  141.0       0       0        0       0    0   \n",
       "\n",
       "   HYPERTEN  STROKE  \n",
       "0         0       0  \n",
       "1         0       0  \n",
       "2         0       0  \n",
       "3         0       0  \n",
       "4         0       0  \n",
       "\n",
       "[5 rows x 28 columns]"
      ]
     },
     "execution_count": 2,
     "metadata": {},
     "output_type": "execute_result"
    }
   ],
   "source": [
    "df = pd.read_csv(\"../data/initial_data/frmgham2_project_data_full.csv\")\n",
    "print(f\"Shape: {df.shape}\\n\")\n",
    "df.head()"
   ]
  },
  {
   "cell_type": "code",
   "execution_count": 3,
   "id": "aea63281-4e49-407b-b9ad-dc44b4b3575a",
   "metadata": {
    "scrolled": true
   },
   "outputs": [
    {
     "name": "stdin",
     "output_type": "stream",
     "text": [
      "\n",
      "../src/results/general/full_data_performances_9_models_5_balancers.csv already exists. Do you want to overwrite it? (y/[other key]) \n"
     ]
    }
   ],
   "source": [
    "performances_df = train_models(df=df,target_var='CVD',\n",
    "                                path_to_save='../src/results/general/full_data_performances_9_models_5_balancers.csv')\n"
   ]
  },
  {
   "cell_type": "code",
   "execution_count": 4,
   "id": "d493a9a8-70f5-4cda-adf3-4847b3b602b2",
   "metadata": {},
   "outputs": [
    {
     "data": {
      "text/html": [
       "<div>\n",
       "<style scoped>\n",
       "    .dataframe tbody tr th:only-of-type {\n",
       "        vertical-align: middle;\n",
       "    }\n",
       "\n",
       "    .dataframe tbody tr th {\n",
       "        vertical-align: top;\n",
       "    }\n",
       "\n",
       "    .dataframe thead th {\n",
       "        text-align: right;\n",
       "    }\n",
       "</style>\n",
       "<table border=\"1\" class=\"dataframe\">\n",
       "  <thead>\n",
       "    <tr style=\"text-align: right;\">\n",
       "      <th></th>\n",
       "      <th>Algorithm</th>\n",
       "      <th>Imputer</th>\n",
       "      <th>Imbalance</th>\n",
       "      <th>Metric</th>\n",
       "      <th>Score</th>\n",
       "      <th>Set</th>\n",
       "      <th>MainMetric</th>\n",
       "    </tr>\n",
       "  </thead>\n",
       "  <tbody>\n",
       "    <tr>\n",
       "      <th>0</th>\n",
       "      <td>LogisticRegression</td>\n",
       "      <td>SimpleImputer_mean__SimpleImputer_mode</td>\n",
       "      <td>SMOTE</td>\n",
       "      <td>Train-F-1</td>\n",
       "      <td>97.53</td>\n",
       "      <td>Train</td>\n",
       "      <td>F-1</td>\n",
       "    </tr>\n",
       "    <tr>\n",
       "      <th>1</th>\n",
       "      <td>DecisionTree</td>\n",
       "      <td>SimpleImputer_mean__SimpleImputer_mode</td>\n",
       "      <td>SMOTE</td>\n",
       "      <td>Train-F-1</td>\n",
       "      <td>100.00</td>\n",
       "      <td>Train</td>\n",
       "      <td>F-1</td>\n",
       "    </tr>\n",
       "    <tr>\n",
       "      <th>2</th>\n",
       "      <td>NaiveBayes</td>\n",
       "      <td>SimpleImputer_mean__SimpleImputer_mode</td>\n",
       "      <td>SMOTE</td>\n",
       "      <td>Train-F-1</td>\n",
       "      <td>93.23</td>\n",
       "      <td>Train</td>\n",
       "      <td>F-1</td>\n",
       "    </tr>\n",
       "    <tr>\n",
       "      <th>3</th>\n",
       "      <td>KNN</td>\n",
       "      <td>SimpleImputer_mean__SimpleImputer_mode</td>\n",
       "      <td>SMOTE</td>\n",
       "      <td>Train-F-1</td>\n",
       "      <td>98.27</td>\n",
       "      <td>Train</td>\n",
       "      <td>F-1</td>\n",
       "    </tr>\n",
       "    <tr>\n",
       "      <th>4</th>\n",
       "      <td>SVM</td>\n",
       "      <td>SimpleImputer_mean__SimpleImputer_mode</td>\n",
       "      <td>SMOTE</td>\n",
       "      <td>Train-F-1</td>\n",
       "      <td>98.29</td>\n",
       "      <td>Train</td>\n",
       "      <td>F-1</td>\n",
       "    </tr>\n",
       "    <tr>\n",
       "      <th>...</th>\n",
       "      <td>...</td>\n",
       "      <td>...</td>\n",
       "      <td>...</td>\n",
       "      <td>...</td>\n",
       "      <td>...</td>\n",
       "      <td>...</td>\n",
       "      <td>...</td>\n",
       "    </tr>\n",
       "    <tr>\n",
       "      <th>1075</th>\n",
       "      <td>SVM</td>\n",
       "      <td>KNNImptuer__SimpleImputer_mode</td>\n",
       "      <td>AllKNN</td>\n",
       "      <td>Test-AUC</td>\n",
       "      <td>96.68</td>\n",
       "      <td>Test</td>\n",
       "      <td>AUC</td>\n",
       "    </tr>\n",
       "    <tr>\n",
       "      <th>1076</th>\n",
       "      <td>RandomForest</td>\n",
       "      <td>KNNImptuer__SimpleImputer_mode</td>\n",
       "      <td>AllKNN</td>\n",
       "      <td>Test-AUC</td>\n",
       "      <td>97.19</td>\n",
       "      <td>Test</td>\n",
       "      <td>AUC</td>\n",
       "    </tr>\n",
       "    <tr>\n",
       "      <th>1077</th>\n",
       "      <td>GradientBoosting</td>\n",
       "      <td>KNNImptuer__SimpleImputer_mode</td>\n",
       "      <td>AllKNN</td>\n",
       "      <td>Test-AUC</td>\n",
       "      <td>96.48</td>\n",
       "      <td>Test</td>\n",
       "      <td>AUC</td>\n",
       "    </tr>\n",
       "    <tr>\n",
       "      <th>1078</th>\n",
       "      <td>Bagging</td>\n",
       "      <td>KNNImptuer__SimpleImputer_mode</td>\n",
       "      <td>AllKNN</td>\n",
       "      <td>Test-AUC</td>\n",
       "      <td>96.72</td>\n",
       "      <td>Test</td>\n",
       "      <td>AUC</td>\n",
       "    </tr>\n",
       "    <tr>\n",
       "      <th>1079</th>\n",
       "      <td>XGBoost</td>\n",
       "      <td>KNNImptuer__SimpleImputer_mode</td>\n",
       "      <td>AllKNN</td>\n",
       "      <td>Test-AUC</td>\n",
       "      <td>96.47</td>\n",
       "      <td>Test</td>\n",
       "      <td>AUC</td>\n",
       "    </tr>\n",
       "  </tbody>\n",
       "</table>\n",
       "<p>1080 rows × 7 columns</p>\n",
       "</div>"
      ],
      "text/plain": [
       "               Algorithm                                 Imputer Imbalance  \\\n",
       "0     LogisticRegression  SimpleImputer_mean__SimpleImputer_mode     SMOTE   \n",
       "1           DecisionTree  SimpleImputer_mean__SimpleImputer_mode     SMOTE   \n",
       "2             NaiveBayes  SimpleImputer_mean__SimpleImputer_mode     SMOTE   \n",
       "3                    KNN  SimpleImputer_mean__SimpleImputer_mode     SMOTE   \n",
       "4                    SVM  SimpleImputer_mean__SimpleImputer_mode     SMOTE   \n",
       "...                  ...                                     ...       ...   \n",
       "1075                 SVM          KNNImptuer__SimpleImputer_mode    AllKNN   \n",
       "1076        RandomForest          KNNImptuer__SimpleImputer_mode    AllKNN   \n",
       "1077    GradientBoosting          KNNImptuer__SimpleImputer_mode    AllKNN   \n",
       "1078             Bagging          KNNImptuer__SimpleImputer_mode    AllKNN   \n",
       "1079             XGBoost          KNNImptuer__SimpleImputer_mode    AllKNN   \n",
       "\n",
       "         Metric   Score    Set MainMetric  \n",
       "0     Train-F-1   97.53  Train        F-1  \n",
       "1     Train-F-1  100.00  Train        F-1  \n",
       "2     Train-F-1   93.23  Train        F-1  \n",
       "3     Train-F-1   98.27  Train        F-1  \n",
       "4     Train-F-1   98.29  Train        F-1  \n",
       "...         ...     ...    ...        ...  \n",
       "1075   Test-AUC   96.68   Test        AUC  \n",
       "1076   Test-AUC   97.19   Test        AUC  \n",
       "1077   Test-AUC   96.48   Test        AUC  \n",
       "1078   Test-AUC   96.72   Test        AUC  \n",
       "1079   Test-AUC   96.47   Test        AUC  \n",
       "\n",
       "[1080 rows x 7 columns]"
      ]
     },
     "execution_count": 4,
     "metadata": {},
     "output_type": "execute_result"
    }
   ],
   "source": [
    "performances_df"
   ]
  },
  {
   "cell_type": "code",
   "execution_count": 5,
   "id": "e675c83b-9c2b-4408-973c-38a1c88df972",
   "metadata": {},
   "outputs": [],
   "source": [
    "# get the best results\n",
    "\n",
    "test_scores = max_score_for_each(performances_df,set_= 'Test')\n",
    "train_scores = max_score_for_each(performances_df,set_='Train')\n",
    "differences_df = train_scores.rename(columns={'Score':'TrainScore'}).drop(['Metric','Set','Imputer','Imbalance'],axis=1)\\\n",
    "            .merge(test_scores.rename(columns={\"Score\":\"TestScore\"}).drop(['Metric','Set','Imputer','Imbalance'],axis=1),\\\n",
    "                    on=['Algorithm','MainMetric'])"
   ]
  },
  {
   "cell_type": "code",
   "execution_count": 6,
   "id": "f9b4fa7d-9ce5-4177-8290-213d02e46893",
   "metadata": {},
   "outputs": [
    {
     "name": "stdout",
     "output_type": "stream",
     "text": [
      "Number of models for each algorithm: 90\n"
     ]
    }
   ],
   "source": [
    "counts = performances_df[['Algorithm','Imputer','Imbalance']].drop_duplicates().shape[0]\n",
    "print(f\"Number of models for each algorithm: {counts}\")"
   ]
  },
  {
   "cell_type": "code",
   "execution_count": 7,
   "id": "a12bb572-4a88-4cc9-9615-4823d0042cba",
   "metadata": {},
   "outputs": [
    {
     "data": {
      "text/html": [
       "<div>\n",
       "<style scoped>\n",
       "    .dataframe tbody tr th:only-of-type {\n",
       "        vertical-align: middle;\n",
       "    }\n",
       "\n",
       "    .dataframe tbody tr th {\n",
       "        vertical-align: top;\n",
       "    }\n",
       "\n",
       "    .dataframe thead th {\n",
       "        text-align: right;\n",
       "    }\n",
       "</style>\n",
       "<table border=\"1\" class=\"dataframe\">\n",
       "  <thead>\n",
       "    <tr style=\"text-align: right;\">\n",
       "      <th></th>\n",
       "      <th>Algorithm</th>\n",
       "      <th>Imputer</th>\n",
       "      <th>Imbalance</th>\n",
       "      <th>Metric</th>\n",
       "      <th>Score</th>\n",
       "      <th>Set</th>\n",
       "      <th>MainMetric</th>\n",
       "    </tr>\n",
       "  </thead>\n",
       "  <tbody>\n",
       "    <tr>\n",
       "      <th>0</th>\n",
       "      <td>Bagging</td>\n",
       "      <td>SimpleImputer_mean__SimpleImputer_mode</td>\n",
       "      <td>SMOTE</td>\n",
       "      <td>Test-AUC</td>\n",
       "      <td>98.00</td>\n",
       "      <td>Test</td>\n",
       "      <td>AUC</td>\n",
       "    </tr>\n",
       "    <tr>\n",
       "      <th>1</th>\n",
       "      <td>Bagging</td>\n",
       "      <td>SimpleImputer_mean__SimpleImputer_mode</td>\n",
       "      <td>SMOTE</td>\n",
       "      <td>Test-Accuracy</td>\n",
       "      <td>98.00</td>\n",
       "      <td>Test</td>\n",
       "      <td>Accuracy</td>\n",
       "    </tr>\n",
       "    <tr>\n",
       "      <th>2</th>\n",
       "      <td>Bagging</td>\n",
       "      <td>SimpleImputer_mean__SimpleImputer_mode</td>\n",
       "      <td>SMOTE</td>\n",
       "      <td>Test-F-1</td>\n",
       "      <td>98.00</td>\n",
       "      <td>Test</td>\n",
       "      <td>F-1</td>\n",
       "    </tr>\n",
       "    <tr>\n",
       "      <th>3</th>\n",
       "      <td>Bagging</td>\n",
       "      <td>SimpleImputer_mean__SimpleImputer_mode</td>\n",
       "      <td>SMOTE</td>\n",
       "      <td>Test-Kappa</td>\n",
       "      <td>95.99</td>\n",
       "      <td>Test</td>\n",
       "      <td>Kappa</td>\n",
       "    </tr>\n",
       "    <tr>\n",
       "      <th>4</th>\n",
       "      <td>Bagging</td>\n",
       "      <td>SimpleImputer_mean__SimpleImputer_mode</td>\n",
       "      <td>SMOTE</td>\n",
       "      <td>Test-Precision</td>\n",
       "      <td>98.06</td>\n",
       "      <td>Test</td>\n",
       "      <td>Precision</td>\n",
       "    </tr>\n",
       "    <tr>\n",
       "      <th>5</th>\n",
       "      <td>Bagging</td>\n",
       "      <td>KNNImptuer__SimpleImputer_mode</td>\n",
       "      <td>ADASYN</td>\n",
       "      <td>Test-Recall</td>\n",
       "      <td>98.23</td>\n",
       "      <td>Test</td>\n",
       "      <td>Recall</td>\n",
       "    </tr>\n",
       "    <tr>\n",
       "      <th>6</th>\n",
       "      <td>DecisionTree</td>\n",
       "      <td>KNNImptuer__SimpleImputer_mode</td>\n",
       "      <td>MWMOTE</td>\n",
       "      <td>Test-AUC</td>\n",
       "      <td>97.39</td>\n",
       "      <td>Test</td>\n",
       "      <td>AUC</td>\n",
       "    </tr>\n",
       "    <tr>\n",
       "      <th>7</th>\n",
       "      <td>DecisionTree</td>\n",
       "      <td>KNNImptuer__SimpleImputer_mode</td>\n",
       "      <td>MWMOTE</td>\n",
       "      <td>Test-Accuracy</td>\n",
       "      <td>97.39</td>\n",
       "      <td>Test</td>\n",
       "      <td>Accuracy</td>\n",
       "    </tr>\n",
       "    <tr>\n",
       "      <th>8</th>\n",
       "      <td>DecisionTree</td>\n",
       "      <td>KNNImptuer__SimpleImputer_mode</td>\n",
       "      <td>MWMOTE</td>\n",
       "      <td>Test-F-1</td>\n",
       "      <td>97.40</td>\n",
       "      <td>Test</td>\n",
       "      <td>F-1</td>\n",
       "    </tr>\n",
       "    <tr>\n",
       "      <th>9</th>\n",
       "      <td>DecisionTree</td>\n",
       "      <td>KNNImptuer__SimpleImputer_mode</td>\n",
       "      <td>MWMOTE</td>\n",
       "      <td>Test-Kappa</td>\n",
       "      <td>94.79</td>\n",
       "      <td>Test</td>\n",
       "      <td>Kappa</td>\n",
       "    </tr>\n",
       "  </tbody>\n",
       "</table>\n",
       "</div>"
      ],
      "text/plain": [
       "      Algorithm                                 Imputer Imbalance  \\\n",
       "0       Bagging  SimpleImputer_mean__SimpleImputer_mode     SMOTE   \n",
       "1       Bagging  SimpleImputer_mean__SimpleImputer_mode     SMOTE   \n",
       "2       Bagging  SimpleImputer_mean__SimpleImputer_mode     SMOTE   \n",
       "3       Bagging  SimpleImputer_mean__SimpleImputer_mode     SMOTE   \n",
       "4       Bagging  SimpleImputer_mean__SimpleImputer_mode     SMOTE   \n",
       "5       Bagging          KNNImptuer__SimpleImputer_mode    ADASYN   \n",
       "6  DecisionTree          KNNImptuer__SimpleImputer_mode    MWMOTE   \n",
       "7  DecisionTree          KNNImptuer__SimpleImputer_mode    MWMOTE   \n",
       "8  DecisionTree          KNNImptuer__SimpleImputer_mode    MWMOTE   \n",
       "9  DecisionTree          KNNImptuer__SimpleImputer_mode    MWMOTE   \n",
       "\n",
       "           Metric  Score   Set MainMetric  \n",
       "0        Test-AUC  98.00  Test        AUC  \n",
       "1   Test-Accuracy  98.00  Test   Accuracy  \n",
       "2        Test-F-1  98.00  Test        F-1  \n",
       "3      Test-Kappa  95.99  Test      Kappa  \n",
       "4  Test-Precision  98.06  Test  Precision  \n",
       "5     Test-Recall  98.23  Test     Recall  \n",
       "6        Test-AUC  97.39  Test        AUC  \n",
       "7   Test-Accuracy  97.39  Test   Accuracy  \n",
       "8        Test-F-1  97.40  Test        F-1  \n",
       "9      Test-Kappa  94.79  Test      Kappa  "
      ]
     },
     "execution_count": 7,
     "metadata": {},
     "output_type": "execute_result"
    }
   ],
   "source": [
    "test_scores.head(10)"
   ]
  },
  {
   "cell_type": "code",
   "execution_count": 8,
   "id": "89d68f11-97dc-4185-b42b-2b34aadbc973",
   "metadata": {},
   "outputs": [],
   "source": [
    "# best model training combinations for training\n",
    "# this is the combination of model, imputation and balancing techniques\n",
    "\n",
    "combinations = get_combinations(df=performances_df,by_features=['Algorithm','Metric'],by_metric='AUC',by_set='Test')"
   ]
  },
  {
   "cell_type": "code",
   "execution_count": 9,
   "id": "5c04b0a3-6e42-44d4-8a0d-4cae2198feda",
   "metadata": {},
   "outputs": [
    {
     "name": "stdout",
     "output_type": "stream",
     "text": [
      "Number of models:  9\n"
     ]
    },
    {
     "data": {
      "text/plain": [
       "[sklearn.ensemble._bagging.BaggingClassifier,\n",
       " ['SimpleImputer_mean',\n",
       "  SimpleImputer(),\n",
       "  'SimpleImputer_mode',\n",
       "  SimpleImputer(strategy='most_frequent')],\n",
       " imblearn.over_sampling._smote.base.SMOTE]"
      ]
     },
     "execution_count": 9,
     "metadata": {},
     "output_type": "execute_result"
    }
   ],
   "source": [
    "print(\"Number of models: \",len(combinations))\n",
    "combinations[0]"
   ]
  },
  {
   "cell_type": "code",
   "execution_count": 10,
   "id": "de80f563-dfe9-48d9-8a39-4758e34889ab",
   "metadata": {},
   "outputs": [],
   "source": [
    "# df = pd.read_csv(\"../data/initial_data/frmgham2_project_data_full.csv\")"
   ]
  },
  {
   "cell_type": "code",
   "execution_count": 11,
   "id": "3984d928-6b67-4314-8d85-3e2a6972b141",
   "metadata": {},
   "outputs": [
    {
     "name": "stdout",
     "output_type": "stream",
     "text": [
      "BaggingClassifier SMOTE ['SimpleImputer_mean', SimpleImputer(), 'SimpleImputer_mode', SimpleImputer(strategy='most_frequent')]\n"
     ]
    },
    {
     "name": "stdin",
     "output_type": "stream",
     "text": [
      "\n",
      "BaggingClassifier hyperparameter tuning was already done. Do you want to do it again? [y/[other key]]  \n"
     ]
    },
    {
     "name": "stdout",
     "output_type": "stream",
     "text": [
      "DecisionTreeClassifier MWMOTE ['KNNImptuer', KNNImputer(), 'SimpleImputer_mode', SimpleImputer(strategy='most_frequent')]\n"
     ]
    },
    {
     "name": "stdin",
     "output_type": "stream",
     "text": [
      "\n",
      "DecisionTreeClassifier hyperparameter tuning was already done. Do you want to do it again? [y/[other key]]  \n"
     ]
    },
    {
     "name": "stdout",
     "output_type": "stream",
     "text": [
      "GradientBoostingClassifier MWMOTE ['SimpleImputer_mean', SimpleImputer(), 'SimpleImputer_mode', SimpleImputer(strategy='most_frequent')]\n"
     ]
    },
    {
     "name": "stdin",
     "output_type": "stream",
     "text": [
      "\n",
      "GradientBoostingClassifier hyperparameter tuning was already done. Do you want to do it again? [y/[other key]]  \n"
     ]
    },
    {
     "name": "stdout",
     "output_type": "stream",
     "text": [
      "KNeighborsClassifier MWMOTE ['SimpleImputer_mean', SimpleImputer(), 'SimpleImputer_mode', SimpleImputer(strategy='most_frequent')]\n"
     ]
    },
    {
     "name": "stdin",
     "output_type": "stream",
     "text": [
      "\n",
      "KNeighborsClassifier hyperparameter tuning was already done. Do you want to do it again? [y/[other key]]  \n"
     ]
    },
    {
     "name": "stdout",
     "output_type": "stream",
     "text": [
      "LogisticRegression MWMOTE ['SimpleImputer_mean', SimpleImputer(), 'SimpleImputer_mode', SimpleImputer(strategy='most_frequent')]\n"
     ]
    },
    {
     "name": "stdin",
     "output_type": "stream",
     "text": [
      "\n",
      "LogisticRegression hyperparameter tuning was already done. Do you want to do it again? [y/[other key]]  \n"
     ]
    },
    {
     "name": "stdout",
     "output_type": "stream",
     "text": [
      "GaussianNB ADASYN ['KNNImptuer', KNNImputer(), 'SimpleImputer_mode', SimpleImputer(strategy='most_frequent')]\n"
     ]
    },
    {
     "name": "stdin",
     "output_type": "stream",
     "text": [
      "\n",
      "GaussianNB hyperparameter tuning was already done. Do you want to do it again? [y/[other key]]  \n"
     ]
    },
    {
     "name": "stdout",
     "output_type": "stream",
     "text": [
      "RandomForestClassifier SMOTE ['KNNImptuer', KNNImputer(), 'SimpleImputer_mode', SimpleImputer(strategy='most_frequent')]\n"
     ]
    },
    {
     "name": "stdin",
     "output_type": "stream",
     "text": [
      "\n",
      "RandomForestClassifier hyperparameter tuning was already done. Do you want to do it again? [y/[other key]]  \n"
     ]
    },
    {
     "name": "stdout",
     "output_type": "stream",
     "text": [
      "SVC MWMOTE ['KNNImptuer', KNNImputer(), 'SimpleImputer_mode', SimpleImputer(strategy='most_frequent')]\n"
     ]
    },
    {
     "name": "stdin",
     "output_type": "stream",
     "text": [
      "\n",
      "SVC hyperparameter tuning was already done. Do you want to do it again? [y/[other key]]  \n"
     ]
    },
    {
     "name": "stdout",
     "output_type": "stream",
     "text": [
      "XGBClassifier SMOTE ['KNNImptuer', KNNImputer(), 'SimpleImputer_mode', SimpleImputer(strategy='most_frequent')]\n"
     ]
    },
    {
     "name": "stdin",
     "output_type": "stream",
     "text": [
      "\n",
      "XGBClassifier hyperparameter tuning was already done. Do you want to do it again? [y/[other key]]  \n"
     ]
    }
   ],
   "source": [
    "# train best models \n",
    "for combi\n",
    "nation in combinations:\n",
    "    algorithm, imputer,balanc = combination\n",
    "    # print(combination)\n",
    "    # quit()\n",
    "    print(algorithm.__name__,balanc.__name__,imputer)\n",
    "    best_model,best_params,output = find_best_model(algorithm=algorithm,\n",
    "                                                    balancer=balanc,\n",
    "                                                    imputer=imputer,\n",
    "                                                    df=df,\n",
    "                                                    ovewrite=False)\n"
   ]
  },
  {
   "cell_type": "code",
   "execution_count": 12,
   "id": "8df6fb3a-1d60-4c62-a42c-b35ecf1e3db0",
   "metadata": {},
   "outputs": [],
   "source": [
    "total_perfomance = pd.read_csv(\"../results/general/best_results_all_models.csv\")\n",
    "total_perfomance_approaches = total_perfomance.drop(['Set','Metric','Score'],axis=1).drop_duplicates()"
   ]
  },
  {
   "cell_type": "code",
   "execution_count": 13,
   "id": "3efc727e-1de7-4ca7-ba2f-af9e0d706ca0",
   "metadata": {},
   "outputs": [
    {
     "data": {
      "text/html": [
       "<div>\n",
       "<style scoped>\n",
       "    .dataframe tbody tr th:only-of-type {\n",
       "        vertical-align: middle;\n",
       "    }\n",
       "\n",
       "    .dataframe tbody tr th {\n",
       "        vertical-align: top;\n",
       "    }\n",
       "\n",
       "    .dataframe thead th {\n",
       "        text-align: right;\n",
       "    }\n",
       "</style>\n",
       "<table border=\"1\" class=\"dataframe\">\n",
       "  <thead>\n",
       "    <tr style=\"text-align: right;\">\n",
       "      <th></th>\n",
       "      <th>Algorithm</th>\n",
       "      <th>Imbalance</th>\n",
       "      <th>ImputerCat</th>\n",
       "      <th>ImputerNum</th>\n",
       "    </tr>\n",
       "  </thead>\n",
       "  <tbody>\n",
       "    <tr>\n",
       "      <th>48</th>\n",
       "      <td>BaggingClassifier</td>\n",
       "      <td>SMOTE</td>\n",
       "      <td>SimpleImputer_mode</td>\n",
       "      <td>SimpleImputer_mean</td>\n",
       "    </tr>\n",
       "    <tr>\n",
       "      <th>60</th>\n",
       "      <td>DecisionTreeClassifier</td>\n",
       "      <td>MWMOTE</td>\n",
       "      <td>SimpleImputer_mode</td>\n",
       "      <td>KNNImptuer</td>\n",
       "    </tr>\n",
       "    <tr>\n",
       "      <th>84</th>\n",
       "      <td>GaussianNB</td>\n",
       "      <td>ADASYN</td>\n",
       "      <td>SimpleImputer_mode</td>\n",
       "      <td>KNNImptuer</td>\n",
       "    </tr>\n",
       "    <tr>\n",
       "      <th>24</th>\n",
       "      <td>GradientBoostingClassifier</td>\n",
       "      <td>MWMOTE</td>\n",
       "      <td>SimpleImputer_mode</td>\n",
       "      <td>SimpleImputer_mean</td>\n",
       "    </tr>\n",
       "    <tr>\n",
       "      <th>0</th>\n",
       "      <td>KNeighborsClassifier</td>\n",
       "      <td>MWMOTE</td>\n",
       "      <td>SimpleImputer_mode</td>\n",
       "      <td>SimpleImputer_mean</td>\n",
       "    </tr>\n",
       "    <tr>\n",
       "      <th>36</th>\n",
       "      <td>LogisticRegression</td>\n",
       "      <td>MWMOTE</td>\n",
       "      <td>SimpleImputer_mode</td>\n",
       "      <td>SimpleImputer_mean</td>\n",
       "    </tr>\n",
       "    <tr>\n",
       "      <th>72</th>\n",
       "      <td>RandomForestClassifier</td>\n",
       "      <td>SMOTE</td>\n",
       "      <td>SimpleImputer_mode</td>\n",
       "      <td>KNNImptuer</td>\n",
       "    </tr>\n",
       "    <tr>\n",
       "      <th>12</th>\n",
       "      <td>SVC</td>\n",
       "      <td>MWMOTE</td>\n",
       "      <td>SimpleImputer_mode</td>\n",
       "      <td>KNNImptuer</td>\n",
       "    </tr>\n",
       "    <tr>\n",
       "      <th>96</th>\n",
       "      <td>XGBClassifier</td>\n",
       "      <td>SMOTE</td>\n",
       "      <td>SimpleImputer_mode</td>\n",
       "      <td>KNNImptuer</td>\n",
       "    </tr>\n",
       "  </tbody>\n",
       "</table>\n",
       "</div>"
      ],
      "text/plain": [
       "                     Algorithm Imbalance          ImputerCat  \\\n",
       "48           BaggingClassifier     SMOTE  SimpleImputer_mode   \n",
       "60      DecisionTreeClassifier    MWMOTE  SimpleImputer_mode   \n",
       "84                  GaussianNB    ADASYN  SimpleImputer_mode   \n",
       "24  GradientBoostingClassifier    MWMOTE  SimpleImputer_mode   \n",
       "0         KNeighborsClassifier    MWMOTE  SimpleImputer_mode   \n",
       "36          LogisticRegression    MWMOTE  SimpleImputer_mode   \n",
       "72      RandomForestClassifier     SMOTE  SimpleImputer_mode   \n",
       "12                         SVC    MWMOTE  SimpleImputer_mode   \n",
       "96               XGBClassifier     SMOTE  SimpleImputer_mode   \n",
       "\n",
       "            ImputerNum  \n",
       "48  SimpleImputer_mean  \n",
       "60          KNNImptuer  \n",
       "84          KNNImptuer  \n",
       "24  SimpleImputer_mean  \n",
       "0   SimpleImputer_mean  \n",
       "36  SimpleImputer_mean  \n",
       "72          KNNImptuer  \n",
       "12          KNNImptuer  \n",
       "96          KNNImptuer  "
      ]
     },
     "execution_count": 13,
     "metadata": {},
     "output_type": "execute_result"
    }
   ],
   "source": [
    "# which works better \n",
    "total_perfomance_approaches.sort_values(\"Algorithm\")"
   ]
  },
  {
   "cell_type": "code",
   "execution_count": 14,
   "id": "4b9f3aea-e8c8-45e5-9c1e-7a9ed32bb80a",
   "metadata": {},
   "outputs": [],
   "source": [
    "# mean performance\n",
    "test_performances = total_perfomance[total_perfomance['Set'] == 'Test']\n",
    "# train_erformances = total_perfomance[total_perfomance['Set'] == 'Train']\n",
    "mean_performance = test_performances.groupby(\"Algorithm\",as_index=False)['Score'].mean()\n",
    "mean_performance['Score'] = mean_performance['Score'].round(2)\n",
    "mean_performance.sort_values(\"Score\",inplace=True)"
   ]
  },
  {
   "cell_type": "code",
   "execution_count": 15,
   "id": "e53d684a-6c65-4fff-b2c2-669a108ffcf3",
   "metadata": {},
   "outputs": [
    {
     "data": {
      "image/png": "[encoded data removed]",
      "text/plain": [
       "<Figure size 640x480 with 1 Axes>"
      ]
     },
     "metadata": {},
     "output_type": "display_data"
    }
   ],
   "source": [
    "fig,ax = plt.subplots(1,1)\n",
    "\n",
    "ax.barh(mean_performance['Algorithm'],mean_performance['Score'],color='orange')\n",
    "for j, value in enumerate(mean_performance.Score):  # Changed the variable name to j\n",
    "    ax.annotate(str(value), xy=(value,j), ha='right', va='center')\n",
    "\n",
    "ax.set_xlabel(\"Score\")\n",
    "plt.title(\"Average test performances of algorithms\")\n",
    "\n",
    "plt.show()"
   ]
  },
  {
   "cell_type": "code",
   "execution_count": 16,
   "id": "12d98426-8233-41a9-9a88-3f916358a18e",
   "metadata": {},
   "outputs": [
    {
     "data": {
      "text/plain": [
       "['RandomForestClassifier',\n",
       " 'LogisticRegression',\n",
       " 'GaussianNB',\n",
       " 'GradientBoostingClassifier',\n",
       " 'DecisionTreeClassifier',\n",
       " 'SVC',\n",
       " 'BaggingClassifier',\n",
       " 'XGBClassifier',\n",
       " 'KNeighborsClassifier']"
      ]
     },
     "execution_count": 16,
     "metadata": {},
     "output_type": "execute_result"
    }
   ],
   "source": [
    "algs = [alg.split(\"_\")[0] for alg in os.listdir(\"../models/\")]\n",
    "algs"
   ]
  },
  {
   "cell_type": "code",
   "execution_count": 17,
   "id": "fbb45ad7-ef78-4122-b303-2dbe22906372",
   "metadata": {},
   "outputs": [],
   "source": [
    "algorithm = 'XGBClassifier'"
   ]
  },
  {
   "cell_type": "code",
   "execution_count": 18,
   "id": "f02b5496-627c-4fcb-b27c-37312b179cd1",
   "metadata": {},
   "outputs": [
    {
     "data": {
      "text/plain": [
       "<Figure size 640x480 with 0 Axes>"
      ]
     },
     "metadata": {},
     "output_type": "display_data"
    },
    {
     "data": {
      "image/png": "[encoded data removed]",
      "text/plain": [
       "<Figure size 640x480 with 2 Axes>"
      ]
     },
     "metadata": {},
     "output_type": "display_data"
    },
    {
     "data": {
      "image/png": "[encoded data removed]",
      "text/plain": [
       "<Figure size 640x480 with 1 Axes>"
      ]
     },
     "metadata": {},
     "output_type": "display_data"
    },
    {
     "data": {
      "image/png": "[encoded data removed]",
      "text/plain": [
       "<Figure size 640x480 with 1 Axes>"
      ]
     },
     "metadata": {},
     "output_type": "display_data"
    }
   ],
   "source": [
    "model = plot_results(performances_df,algorithm,df,set_='Test')"
   ]
  }
 ],
 "metadata": {
  "kernelspec": {
   "display_name": "ml_course_kernel",
   "language": "python",
   "name": "ml_course_kernel"
  },
  "language_info": {
   "codemirror_mode": {
    "name": "ipython",
    "version": 3
   },
   "file_extension": ".py",
   "mimetype": "text/x-python",
   "name": "python",
   "nbconvert_exporter": "python",
   "pygments_lexer": "ipython3",
   "version": "3.11.4"
  }
 },
 "nbformat": 4,
 "nbformat_minor": 5
}
