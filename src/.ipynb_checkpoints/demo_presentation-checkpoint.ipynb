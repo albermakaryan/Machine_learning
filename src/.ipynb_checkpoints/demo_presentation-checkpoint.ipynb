{
 "cells": [
  {
   "cell_type": "code",
   "execution_count": 33,
   "id": "216b3c8a-1a07-46af-b057-23442ad300ea",
   "metadata": {},
   "outputs": [],
   "source": [
    "import pandas as pd\n",
    "import numpy as np\n",
    "from utils.models import find_best_model\n",
    "from utils.search_model import train_models\n",
    "from utils.visual import plot_for_each_algorithm,plot_for_each_balancer,plot_for_each_performance_metric\n",
    "from fnmatch import fnmatch\n",
    "import os"
   ]
  },
  {
   "cell_type": "code",
   "execution_count": 2,
   "id": "ac0b28a1-0429-4660-ab6b-721d7714b1a3",
   "metadata": {},
   "outputs": [],
   "source": [
    "df = pd.read_csv(\"./results/BaggingClassifier/BaggingClassifier_best_model_perfomance.csv\")"
   ]
  },
  {
   "cell_type": "code",
   "execution_count": 23,
   "id": "e5b83205-2d91-4f9a-b733-332469351c29",
   "metadata": {},
   "outputs": [],
   "source": [
    "root = \"./results/\""
   ]
  },
  {
   "cell_type": "code",
   "execution_count": 35,
   "id": "5e76dde1-1d07-4f3b-b3d7-ed2bab655668",
   "metadata": {},
   "outputs": [
    {
     "name": "stdout",
     "output_type": "stream",
     "text": [
      "\n",
      "./results/KNeighborsClassifier/KNeighborsClassifier_best_model_perfomance.csv\n",
      "\n",
      "./results/SVC/SVC_best_model_perfomance.csv\n",
      "\n",
      "./results/GradientBoostingClassifier/GradientBoostingClassifier_best_model_perfomance.csv\n",
      "\n",
      "./results/LogisticRegression/LogisticRegression_best_model_perfomance.csv\n",
      "\n",
      "./results/BaggingClassifier/BaggingClassifier_best_model_perfomance.csv\n",
      "\n",
      "./results/DecisionTreeClassifier/DecisionTreeClassifier_best_model_perfomance.csv\n",
      "\n",
      "./results/RandomForestClassifier/RandomForestClassifier_best_model_perfomance.csv\n",
      "\n",
      "./results/XGBClassifier/XGBClassifier_best_model_perfomance.csv\n",
      "\n"
     ]
    }
   ],
   "source": [
    "full_df = None\n",
    "for path, subdirs, files in os.walk(root):\n",
    "\n",
    "    if path.split(\"/\")[-1] == 'general':\n",
    "        continue\n",
    "    for name in files:\n",
    "        if fnmatch(name, \"*.csv\"):\n",
    "            file_path = os.path.join(path,name)\n",
    "\n",
    "            if full_df is None:\n",
    "                full_df = pd.read_csv(file_path)\n",
    "            \n",
    "    print()"
   ]
  },
  {
   "cell_type": "code",
   "execution_count": 17,
   "id": "7f426232-87de-431a-a557-ccafcbf73905",
   "metadata": {},
   "outputs": [
    {
     "data": {
      "text/plain": [
       "'./results/XGBClassifier'"
      ]
     },
     "execution_count": 17,
     "metadata": {},
     "output_type": "execute_result"
    }
   ],
   "source": [
    "path"
   ]
  },
  {
   "cell_type": "code",
   "execution_count": null,
   "id": "cfb1836d-5d81-4d80-a7c6-d56d5988593b",
   "metadata": {},
   "outputs": [],
   "source": []
  }
 ],
 "metadata": {
  "kernelspec": {
   "display_name": "ml_course_kernel",
   "language": "python",
   "name": "ml_course_kernel"
  },
  "language_info": {
   "codemirror_mode": {
    "name": "ipython",
    "version": 3
   },
   "file_extension": ".py",
   "mimetype": "text/x-python",
   "name": "python",
   "nbconvert_exporter": "python",
   "pygments_lexer": "ipython3",
   "version": "3.11.4"
  }
 },
 "nbformat": 4,
 "nbformat_minor": 5
}
