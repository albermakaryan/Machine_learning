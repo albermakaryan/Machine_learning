{
 "cells": [
  {
   "cell_type": "code",
   "execution_count": 57,
   "id": "d796586e-a546-48ab-ae22-b8911702a1ca",
   "metadata": {},
   "outputs": [],
   "source": [
    "import pandas as pd\n",
    "import numpy as np\n",
    "import matplotlib.pyplot as plt\n",
    "import seaborn as sns\n",
    "import re\n",
    "\n"
   ]
  },
  {
   "cell_type": "markdown",
   "id": "dc327fd3-dd34-47ab-b557-a655fe221d13",
   "metadata": {},
   "source": [
    "# EDA"
   ]
  },
  {
   "cell_type": "code",
   "execution_count": 265,
   "id": "4bb8e299-6a75-4149-94ae-c30907055034",
   "metadata": {},
   "outputs": [],
   "source": [
    "# load data\n",
    "df = pd.read_csv(\"../data/initial_data/frmgham2.csv\")\n",
    "\n",
    "features = list(df.columns.copy())\n",
    "features.remove(\"STROKE\")\n",
    "df = df[features + ['STROKE']]"
   ]
  },
  {
   "cell_type": "code",
   "execution_count": 266,
   "id": "0fae7c2e-e526-463a-8df8-6e17100aab14",
   "metadata": {},
   "outputs": [
    {
     "data": {
      "text/html": [
       "<div>\n",
       "<style scoped>\n",
       "    .dataframe tbody tr th:only-of-type {\n",
       "        vertical-align: middle;\n",
       "    }\n",
       "\n",
       "    .dataframe tbody tr th {\n",
       "        vertical-align: top;\n",
       "    }\n",
       "\n",
       "    .dataframe thead th {\n",
       "        text-align: right;\n",
       "    }\n",
       "</style>\n",
       "<table border=\"1\" class=\"dataframe\">\n",
       "  <thead>\n",
       "    <tr style=\"text-align: right;\">\n",
       "      <th></th>\n",
       "      <th>Feature</th>\n",
       "      <th>UniqueValues</th>\n",
       "    </tr>\n",
       "  </thead>\n",
       "  <tbody>\n",
       "    <tr>\n",
       "      <th>38</th>\n",
       "      <td>STROKE</td>\n",
       "      <td>2</td>\n",
       "    </tr>\n",
       "    <tr>\n",
       "      <th>25</th>\n",
       "      <td>HOSPMI</td>\n",
       "      <td>2</td>\n",
       "    </tr>\n",
       "    <tr>\n",
       "      <th>24</th>\n",
       "      <td>ANGINA</td>\n",
       "      <td>2</td>\n",
       "    </tr>\n",
       "    <tr>\n",
       "      <th>23</th>\n",
       "      <td>DEATH</td>\n",
       "      <td>2</td>\n",
       "    </tr>\n",
       "    <tr>\n",
       "      <th>28</th>\n",
       "      <td>CVD</td>\n",
       "      <td>2</td>\n",
       "    </tr>\n",
       "    <tr>\n",
       "      <th>18</th>\n",
       "      <td>PREVHYP</td>\n",
       "      <td>2</td>\n",
       "    </tr>\n",
       "    <tr>\n",
       "      <th>17</th>\n",
       "      <td>PREVSTRK</td>\n",
       "      <td>2</td>\n",
       "    </tr>\n",
       "    <tr>\n",
       "      <th>16</th>\n",
       "      <td>PREVMI</td>\n",
       "      <td>2</td>\n",
       "    </tr>\n",
       "    <tr>\n",
       "      <th>15</th>\n",
       "      <td>PREVAP</td>\n",
       "      <td>2</td>\n",
       "    </tr>\n",
       "    <tr>\n",
       "      <th>14</th>\n",
       "      <td>PREVCHD</td>\n",
       "      <td>2</td>\n",
       "    </tr>\n",
       "    <tr>\n",
       "      <th>26</th>\n",
       "      <td>MI_FCHD</td>\n",
       "      <td>2</td>\n",
       "    </tr>\n",
       "    <tr>\n",
       "      <th>27</th>\n",
       "      <td>ANYCHD</td>\n",
       "      <td>2</td>\n",
       "    </tr>\n",
       "    <tr>\n",
       "      <th>10</th>\n",
       "      <td>BPMEDS</td>\n",
       "      <td>2</td>\n",
       "    </tr>\n",
       "    <tr>\n",
       "      <th>9</th>\n",
       "      <td>DIABETES</td>\n",
       "      <td>2</td>\n",
       "    </tr>\n",
       "    <tr>\n",
       "      <th>29</th>\n",
       "      <td>HYPERTEN</td>\n",
       "      <td>2</td>\n",
       "    </tr>\n",
       "    <tr>\n",
       "      <th>6</th>\n",
       "      <td>CURSMOKE</td>\n",
       "      <td>2</td>\n",
       "    </tr>\n",
       "    <tr>\n",
       "      <th>1</th>\n",
       "      <td>SEX</td>\n",
       "      <td>2</td>\n",
       "    </tr>\n",
       "    <tr>\n",
       "      <th>20</th>\n",
       "      <td>PERIOD</td>\n",
       "      <td>3</td>\n",
       "    </tr>\n",
       "    <tr>\n",
       "      <th>13</th>\n",
       "      <td>educ</td>\n",
       "      <td>4</td>\n",
       "    </tr>\n",
       "    <tr>\n",
       "      <th>7</th>\n",
       "      <td>CIGPDAY</td>\n",
       "      <td>45</td>\n",
       "    </tr>\n",
       "    <tr>\n",
       "      <th>3</th>\n",
       "      <td>AGE</td>\n",
       "      <td>50</td>\n",
       "    </tr>\n",
       "    <tr>\n",
       "      <th>11</th>\n",
       "      <td>HEARTRTE</td>\n",
       "      <td>83</td>\n",
       "    </tr>\n",
       "    <tr>\n",
       "      <th>21</th>\n",
       "      <td>HDLC</td>\n",
       "      <td>105</td>\n",
       "    </tr>\n",
       "    <tr>\n",
       "      <th>5</th>\n",
       "      <td>DIABP</td>\n",
       "      <td>160</td>\n",
       "    </tr>\n",
       "    <tr>\n",
       "      <th>12</th>\n",
       "      <td>GLUCOSE</td>\n",
       "      <td>211</td>\n",
       "    </tr>\n",
       "    <tr>\n",
       "      <th>4</th>\n",
       "      <td>SYSBP</td>\n",
       "      <td>260</td>\n",
       "    </tr>\n",
       "    <tr>\n",
       "      <th>22</th>\n",
       "      <td>LDLC</td>\n",
       "      <td>262</td>\n",
       "    </tr>\n",
       "    <tr>\n",
       "      <th>2</th>\n",
       "      <td>TOTCHOL</td>\n",
       "      <td>299</td>\n",
       "    </tr>\n",
       "    <tr>\n",
       "      <th>19</th>\n",
       "      <td>TIME</td>\n",
       "      <td>932</td>\n",
       "    </tr>\n",
       "    <tr>\n",
       "      <th>36</th>\n",
       "      <td>TIMEDTH</td>\n",
       "      <td>1419</td>\n",
       "    </tr>\n",
       "    <tr>\n",
       "      <th>37</th>\n",
       "      <td>TIMEHYP</td>\n",
       "      <td>1519</td>\n",
       "    </tr>\n",
       "    <tr>\n",
       "      <th>34</th>\n",
       "      <td>TIMESTRK</td>\n",
       "      <td>1525</td>\n",
       "    </tr>\n",
       "    <tr>\n",
       "      <th>31</th>\n",
       "      <td>TIMEMI</td>\n",
       "      <td>1529</td>\n",
       "    </tr>\n",
       "    <tr>\n",
       "      <th>32</th>\n",
       "      <td>TIMEMIFC</td>\n",
       "      <td>1543</td>\n",
       "    </tr>\n",
       "    <tr>\n",
       "      <th>30</th>\n",
       "      <td>TIMEAP</td>\n",
       "      <td>1606</td>\n",
       "    </tr>\n",
       "    <tr>\n",
       "      <th>35</th>\n",
       "      <td>TIMECVD</td>\n",
       "      <td>1634</td>\n",
       "    </tr>\n",
       "    <tr>\n",
       "      <th>33</th>\n",
       "      <td>TIMECHD</td>\n",
       "      <td>1716</td>\n",
       "    </tr>\n",
       "    <tr>\n",
       "      <th>8</th>\n",
       "      <td>BMI</td>\n",
       "      <td>1818</td>\n",
       "    </tr>\n",
       "    <tr>\n",
       "      <th>0</th>\n",
       "      <td>RANDID</td>\n",
       "      <td>4434</td>\n",
       "    </tr>\n",
       "  </tbody>\n",
       "</table>\n",
       "</div>"
      ],
      "text/plain": [
       "     Feature  UniqueValues\n",
       "38    STROKE             2\n",
       "25    HOSPMI             2\n",
       "24    ANGINA             2\n",
       "23     DEATH             2\n",
       "28       CVD             2\n",
       "18   PREVHYP             2\n",
       "17  PREVSTRK             2\n",
       "16    PREVMI             2\n",
       "15    PREVAP             2\n",
       "14   PREVCHD             2\n",
       "26   MI_FCHD             2\n",
       "27    ANYCHD             2\n",
       "10    BPMEDS             2\n",
       "9   DIABETES             2\n",
       "29  HYPERTEN             2\n",
       "6   CURSMOKE             2\n",
       "1        SEX             2\n",
       "20    PERIOD             3\n",
       "13      educ             4\n",
       "7    CIGPDAY            45\n",
       "3        AGE            50\n",
       "11  HEARTRTE            83\n",
       "21      HDLC           105\n",
       "5      DIABP           160\n",
       "12   GLUCOSE           211\n",
       "4      SYSBP           260\n",
       "22      LDLC           262\n",
       "2    TOTCHOL           299\n",
       "19      TIME           932\n",
       "36   TIMEDTH          1419\n",
       "37   TIMEHYP          1519\n",
       "34  TIMESTRK          1525\n",
       "31    TIMEMI          1529\n",
       "32  TIMEMIFC          1543\n",
       "30    TIMEAP          1606\n",
       "35   TIMECVD          1634\n",
       "33   TIMECHD          1716\n",
       "8        BMI          1818\n",
       "0     RANDID          4434"
      ]
     },
     "execution_count": 266,
     "metadata": {},
     "output_type": "execute_result"
    }
   ],
   "source": [
    "unique_values = df.nunique().to_frame().reset_index().rename(columns={\"index\":\"Feature\",0:\"UniqueValues\"})\n",
    "unique_values.sort_values(\"UniqueValues\",inplace=True)\n",
    "unique_values"
   ]
  },
  {
   "cell_type": "code",
   "execution_count": 267,
   "id": "f6d2348c-387f-4f61-8b5a-0f21f1e30fa3",
   "metadata": {},
   "outputs": [],
   "source": [
    "categorical_features = unique_values[unique_values['UniqueValues']<5]['Feature'].values.tolist()\n",
    "try:\n",
    "    categorical_features.remove(\"DEATH\")\n",
    "except:\n",
    "    pass\n",
    "numerica_features = unique_values[unique_values['UniqueValues']>5]['Feature'].values.tolist()\n"
   ]
  },
  {
   "cell_type": "code",
   "execution_count": 268,
   "id": "91a86f3f-2b2b-4d2b-820e-f31ce7278f74",
   "metadata": {},
   "outputs": [],
   "source": [
    "feature_dict = {\"categorical\": categorical_features,\n",
    "                \"numerical\":numerica_features}"
   ]
  },
  {
   "cell_type": "code",
   "execution_count": 269,
   "id": "b72d4a77-143a-4e1f-9144-76d71d49529c",
   "metadata": {},
   "outputs": [],
   "source": [
    "# n obs, n features\n",
    "n_obs,n_features = df.shape\n",
    "n_features = n_features-1"
   ]
  },
  {
   "cell_type": "code",
   "execution_count": null,
   "id": "ae3b7404-140a-4d29-b8c3-e8b9fe9153b8",
   "metadata": {},
   "outputs": [],
   "source": []
  },
  {
   "cell_type": "markdown",
   "id": "b9cb2c0c-14d4-44c2-8e6b-c46d7ce6b5c2",
   "metadata": {},
   "source": [
    "## Missing values"
   ]
  },
  {
   "cell_type": "code",
   "execution_count": 270,
   "id": "b2dc3f66-eece-4ce2-8608-b81ef1857abd",
   "metadata": {},
   "outputs": [
    {
     "name": "stdout",
     "output_type": "stream",
     "text": [
      "9 out of 38 features have missings values!!\n"
     ]
    }
   ],
   "source": [
    "# count missing values for each column\n",
    "missings = df.isna().sum().to_frame().reset_index().rename(columns={\"index\":\"Feature\",0:\"Counts\"})\n",
    "missings = missings[missings['Counts'] != 0]\n",
    "missings['Percent'] = missings['Counts'] / n_obs\n",
    "missings.sort_values(\"Counts\",inplace=True)\n",
    "\n",
    "n_missings = missings.shape[0]\n",
    "\n",
    "\n",
    "print(F\"{n_missings} out of {n_features} features have missings values!!\")"
   ]
  },
  {
   "cell_type": "code",
   "execution_count": 271,
   "id": "45f3d436-b408-43c5-8f4e-5a7c9d7fc25f",
   "metadata": {},
   "outputs": [
    {
     "data": {
      "image/png": "[encoded data removed]",
      "text/plain": [
       "<Figure size 1500x500 with 2 Axes>"
      ]
     },
     "metadata": {},
     "output_type": "display_data"
    }
   ],
   "source": [
    "fig,ax = plt.subplots(1,2)\n",
    "fig.set_figheight(5)\n",
    "fig.set_figwidth(15)\n",
    "\n",
    "\n",
    "\n",
    "for i,key in enumerate(feature_dict):\n",
    "\n",
    "    fets = feature_dict[key]\n",
    "    # print(fets)\n",
    "    \n",
    "    missings = df[fets].isna().sum().to_frame().reset_index().rename(columns={\"index\":\"Feature\",0:\"Counts\"})\n",
    "    missings = missings[missings['Counts'] != 0]\n",
    "    missings['Percent'] = missings['Counts'] / n_obs\n",
    "    missings.sort_values(\"Counts\",inplace=True)\n",
    "\n",
    "        \n",
    "    ax[i].bar(missings['Feature'],missings['Percent'])\n",
    "    ax[i].set_title(f\"{key.capitalize()} features missing values\")\n",
    "\n",
    "    if key == 'categorical':\n",
    "        ax[i].set_ylim(0,0.06)\n",
    "    else:\n",
    "        ax[i].set_ylim(0,0.9)\n",
    "\n",
    "\n",
    "    ax[i].set_ylabel(\"Ratio\")\n",
    "    \n",
    "    # Annotate each bar with its value\n",
    "    for index, value in enumerate(missings['Percent']):\n",
    "        # print(value)\n",
    "        miss_rate = value\n",
    "        counts = missings['Counts'].values[index]\n",
    "        annot = f\"{str(round(miss_rate,4))} \\n [{str(counts)}]\" \n",
    "        ax[i].text(index, value,  annot, ha='center', va='bottom')\n",
    "        \n",
    "    # plt.xticks(rotation=45)\n",
    "    # plt.title(\"Figure 1. Percent of missing values\")\n",
    "    \n",
    "plt.show()\n"
   ]
  },
  {
   "cell_type": "markdown",
   "id": "3629dc98-3a3f-4772-89a1-a6de841b846e",
   "metadata": {},
   "source": [
    "About 74% of **HDLC** and **LDLC** features values are missing, so, it is not reasonable to impute missing values for these attributes. It is better to just drop them from data set. The remaining features with low ratio of missing values we are going to fill."
   ]
  },
  {
   "cell_type": "code",
   "execution_count": null,
   "id": "f2e77d97-068d-467b-99d3-8732d77e8b55",
   "metadata": {},
   "outputs": [],
   "source": []
  },
  {
   "cell_type": "code",
   "execution_count": null,
   "id": "c9ba402d-5e46-47c1-b2bb-0f2009fb7ca4",
   "metadata": {},
   "outputs": [],
   "source": []
  },
  {
   "cell_type": "code",
   "execution_count": 272,
   "id": "662d94ad-706d-4eeb-8775-dfb323caa47d",
   "metadata": {},
   "outputs": [
    {
     "data": {
      "text/plain": [
       "array(['HDLC', 'LDLC'], dtype=object)"
      ]
     },
     "execution_count": 272,
     "metadata": {},
     "output_type": "execute_result"
    }
   ],
   "source": [
    "columns_to_remove = missings[missings['Percent'] > .5]['Feature'].values\n",
    "columns_to_remove"
   ]
  },
  {
   "cell_type": "code",
   "execution_count": 219,
   "id": "c3f442d0-81c5-4d00-81de-983a21171015",
   "metadata": {},
   "outputs": [],
   "source": [
    "# try:\n",
    "#     df.drop(columns_to_remove,axis=1,inplace=True)\n",
    "#     df.to_csv(\"../data/initial_data/frmgham2_project_data.csv\",index=False)\n",
    "# except:\n",
    "#     print(f\"Columns {columns_to_remove.tolist()} not found!\")"
   ]
  },
  {
   "cell_type": "markdown",
   "id": "ea975087-2064-4228-8b51-31935f733d6c",
   "metadata": {},
   "source": [
    "## Imbalance labels"
   ]
  },
  {
   "cell_type": "markdown",
   "id": "71c98b7b-debf-4e84-bbc8-2458b8111fd7",
   "metadata": {},
   "source": [
    "Zero outomce has more than twice occurance. We can fix this by oversampling or undersampling, or use imbalanced data, but use as much metrics as possible for model evaluation."
   ]
  },
  {
   "cell_type": "code",
   "execution_count": 296,
   "id": "7237fc0f-8e22-44a2-850a-5278958ae415",
   "metadata": {},
   "outputs": [
    {
     "data": {
      "image/png": "[encoded data removed]",
      "text/plain": [
       "<Figure size 1000x700 with 1 Axes>"
      ]
     },
     "metadata": {},
     "output_type": "display_data"
    }
   ],
   "source": [
    "\n",
    "\n",
    "label_counts = df['STROKE'].value_counts().to_frame().reset_index().rename(columns={\"count\":\"Count\"})\n",
    "label_counts['Percent'] = label_counts['Count']/n_obs\n",
    "plt.figure(figsize=(10,7))\n",
    "\n",
    "sns.barplot(label_counts,x='STROKE',y='Count')\n",
    "\n",
    "for index, value in enumerate(label_counts['Percent']):\n",
    "    \n",
    "    miss_rate = value\n",
    "    counts = label_counts['Count'].values[index]\n",
    "    annot = f\"{str(round(miss_rate,4))} \\n [{str(counts)}]\" \n",
    "    plt.text(index, counts,  annot, ha='center', va='bottom')\n",
    "\n",
    "        \n",
    "plt.ylim(0,12000)\n",
    "plt.title(\"Figure 2. Number of labels\")\n",
    "\n",
    "plt.show()"
   ]
  },
  {
   "cell_type": "markdown",
   "id": "714665b6-3647-4528-81a6-1491907e5655",
   "metadata": {},
   "source": [
    "### Collrelation"
   ]
  },
  {
   "cell_type": "code",
   "execution_count": 225,
   "id": "61485d83-003e-4158-81a0-924e725513bf",
   "metadata": {},
   "outputs": [],
   "source": [
    "# corr = df.dropna().corr()"
   ]
  },
  {
   "cell_type": "code",
   "execution_count": 227,
   "id": "2b3cf5a5-2d99-4425-89f3-9e1974024b9f",
   "metadata": {},
   "outputs": [],
   "source": [
    "# plt.figure(figsize=(20,15))\n",
    "# sns.heatmap(corr,annot=True,fmt=\".1g\")\n",
    "\n",
    "# plt.title(\"Figure 2. Correlation (missinges were dropped)\")\n",
    "# plt.show()"
   ]
  },
  {
   "cell_type": "code",
   "execution_count": null,
   "id": "556a330e-00e6-44dc-a4be-8cf776647a1c",
   "metadata": {},
   "outputs": [],
   "source": []
  }
 ],
 "metadata": {
  "kernelspec": {
   "display_name": "Python 3 (ipykernel)",
   "language": "python",
   "name": "python3"
  },
  "language_info": {
   "codemirror_mode": {
    "name": "ipython",
    "version": 3
   },
   "file_extension": ".py",
   "mimetype": "text/x-python",
   "name": "python",
   "nbconvert_exporter": "python",
   "pygments_lexer": "ipython3",
   "version": "3.11.4"
  }
 },
 "nbformat": 4,
 "nbformat_minor": 5
}
